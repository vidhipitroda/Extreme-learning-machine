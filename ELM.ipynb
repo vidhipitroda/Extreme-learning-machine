{
  "nbformat": 4,
  "nbformat_minor": 0,
  "metadata": {
    "kernelspec": {
      "display_name": "Python 3",
      "language": "python",
      "name": "python3"
    },
    "language_info": {
      "codemirror_mode": {
        "name": "ipython",
        "version": 3
      },
      "file_extension": ".py",
      "mimetype": "text/x-python",
      "name": "python",
      "nbconvert_exporter": "python",
      "pygments_lexer": "ipython3",
      "version": "3.7.4"
    },
    "colab": {
      "name": "ELM.ipynb",
      "provenance": [],
      "include_colab_link": true
    }
  },
  "cells": [
    {
      "cell_type": "markdown",
      "metadata": {
        "id": "view-in-github",
        "colab_type": "text"
      },
      "source": [
        "<a href=\"https://colab.research.google.com/github/vidhipitroda/Extreme-learning-machine/blob/master/ELM.ipynb\" target=\"_parent\"><img src=\"https://colab.research.google.com/assets/colab-badge.svg\" alt=\"Open In Colab\"/></a>"
      ]
    },
    {
      "cell_type": "code",
      "metadata": {
        "id": "xsBFqjoZnQIn",
        "colab_type": "code",
        "colab": {}
      },
      "source": [
        "import numpy as np\n",
        "import pandas as pd\n",
        "from sklearn import preprocessing"
      ],
      "execution_count": 0,
      "outputs": []
    },
    {
      "cell_type": "markdown",
      "metadata": {
        "id": "DRRTOnv1nQIu",
        "colab_type": "text"
      },
      "source": [
        "Fetching the dataset and applying preprocessing steps"
      ]
    },
    {
      "cell_type": "code",
      "metadata": {
        "id": "3AtswEmxnQIw",
        "colab_type": "code",
        "colab": {}
      },
      "source": [
        "#fetching the dataset\n",
        "dataset = pd.read_csv(r'\\\\transfusion.csv')"
      ],
      "execution_count": 0,
      "outputs": []
    },
    {
      "cell_type": "code",
      "metadata": {
        "id": "dzZvRV9wnQI0",
        "colab_type": "code",
        "colab": {}
      },
      "source": [
        "#renaming the dataset\n",
        "dataset = dataset.rename(columns={\"Recency (months)\":\"Months\",\"Frequency (times)\":\"Frequency\",\"Monetary (c.c. blood)\":\"c.c.blood\",\"Time (months)\":\"Time\",\"whether he/she donated blood in March 2007\":\"final\"})"
      ],
      "execution_count": 0,
      "outputs": []
    },
    {
      "cell_type": "code",
      "metadata": {
        "id": "nevQ7WvunQI6",
        "colab_type": "code",
        "colab": {},
        "outputId": "4e300a63-d0f9-4e56-fdb7-4118a186c9c5"
      },
      "source": [
        "dataset.head()"
      ],
      "execution_count": 0,
      "outputs": [
        {
          "output_type": "execute_result",
          "data": {
            "text/html": [
              "<div>\n",
              "<style scoped>\n",
              "    .dataframe tbody tr th:only-of-type {\n",
              "        vertical-align: middle;\n",
              "    }\n",
              "\n",
              "    .dataframe tbody tr th {\n",
              "        vertical-align: top;\n",
              "    }\n",
              "\n",
              "    .dataframe thead th {\n",
              "        text-align: right;\n",
              "    }\n",
              "</style>\n",
              "<table border=\"1\" class=\"dataframe\">\n",
              "  <thead>\n",
              "    <tr style=\"text-align: right;\">\n",
              "      <th></th>\n",
              "      <th>Months</th>\n",
              "      <th>Frequency</th>\n",
              "      <th>c.c.blood</th>\n",
              "      <th>Time</th>\n",
              "      <th>final</th>\n",
              "    </tr>\n",
              "  </thead>\n",
              "  <tbody>\n",
              "    <tr>\n",
              "      <td>0</td>\n",
              "      <td>2</td>\n",
              "      <td>50</td>\n",
              "      <td>12500</td>\n",
              "      <td>98</td>\n",
              "      <td>1</td>\n",
              "    </tr>\n",
              "    <tr>\n",
              "      <td>1</td>\n",
              "      <td>0</td>\n",
              "      <td>13</td>\n",
              "      <td>3250</td>\n",
              "      <td>28</td>\n",
              "      <td>1</td>\n",
              "    </tr>\n",
              "    <tr>\n",
              "      <td>2</td>\n",
              "      <td>1</td>\n",
              "      <td>16</td>\n",
              "      <td>4000</td>\n",
              "      <td>35</td>\n",
              "      <td>1</td>\n",
              "    </tr>\n",
              "    <tr>\n",
              "      <td>3</td>\n",
              "      <td>2</td>\n",
              "      <td>20</td>\n",
              "      <td>5000</td>\n",
              "      <td>45</td>\n",
              "      <td>1</td>\n",
              "    </tr>\n",
              "    <tr>\n",
              "      <td>4</td>\n",
              "      <td>1</td>\n",
              "      <td>24</td>\n",
              "      <td>6000</td>\n",
              "      <td>77</td>\n",
              "      <td>0</td>\n",
              "    </tr>\n",
              "  </tbody>\n",
              "</table>\n",
              "</div>"
            ],
            "text/plain": [
              "   Months  Frequency  c.c.blood  Time  final\n",
              "0       2         50      12500    98      1\n",
              "1       0         13       3250    28      1\n",
              "2       1         16       4000    35      1\n",
              "3       2         20       5000    45      1\n",
              "4       1         24       6000    77      0"
            ]
          },
          "metadata": {
            "tags": []
          },
          "execution_count": 4
        }
      ]
    },
    {
      "cell_type": "markdown",
      "metadata": {
        "id": "8k7DT5rpnQI_",
        "colab_type": "text"
      },
      "source": [
        "Normalization of dataset"
      ]
    },
    {
      "cell_type": "code",
      "metadata": {
        "id": "1SKf4vwcnQJB",
        "colab_type": "code",
        "colab": {},
        "outputId": "0e889e0f-9b32-4a87-98c8-3bdfcd41e534"
      },
      "source": [
        "#normalization of dataset\n",
        "min_max_scaler = preprocessing.MinMaxScaler()\n",
        "x_scaled = min_max_scaler.fit_transform(dataset)\n",
        "input_node= pd.DataFrame(x_scaled)\n",
        "x_train = np.array(input_node)\n",
        "x_train"
      ],
      "execution_count": 0,
      "outputs": [
        {
          "output_type": "execute_result",
          "data": {
            "text/plain": [
              "array([[0.02702703, 1.        , 1.        , 1.        , 1.        ],\n",
              "       [0.        , 0.24489796, 0.24489796, 0.27083333, 1.        ],\n",
              "       [0.01351351, 0.30612245, 0.30612245, 0.34375   , 1.        ],\n",
              "       ...,\n",
              "       [0.31081081, 0.04081633, 0.04081633, 0.625     , 0.        ],\n",
              "       [0.52702703, 0.        , 0.        , 0.38541667, 0.        ],\n",
              "       [0.97297297, 0.        , 0.        , 0.72916667, 0.        ]])"
            ]
          },
          "metadata": {
            "tags": []
          },
          "execution_count": 5
        }
      ]
    },
    {
      "cell_type": "code",
      "metadata": {
        "id": "lgtvW5XInQJE",
        "colab_type": "code",
        "colab": {}
      },
      "source": [
        ""
      ],
      "execution_count": 0,
      "outputs": []
    },
    {
      "cell_type": "code",
      "metadata": {
        "id": "D6Iw6DLenQJK",
        "colab_type": "code",
        "colab": {}
      },
      "source": [
        "#arranging the values as per the datatype\n",
        "X_train = dataset.iloc[:, 0:4].values.astype('float32')\n",
        "labels = dataset.iloc[:, 4].values.astype('int32')"
      ],
      "execution_count": 0,
      "outputs": []
    },
    {
      "cell_type": "code",
      "metadata": {
        "id": "XK5MJ0HcnQJO",
        "colab_type": "code",
        "colab": {},
        "outputId": "e6bd45b6-1f12-45a4-9748-46794a674bc1"
      },
      "source": [
        "X_train.shape"
      ],
      "execution_count": 0,
      "outputs": [
        {
          "output_type": "execute_result",
          "data": {
            "text/plain": [
              "(748, 4)"
            ]
          },
          "metadata": {
            "tags": []
          },
          "execution_count": 7
        }
      ]
    },
    {
      "cell_type": "code",
      "metadata": {
        "id": "JE5g9w9JnQJS",
        "colab_type": "code",
        "colab": {},
        "outputId": "de72cf0b-78c4-47d5-f281-2d2f67a65393"
      },
      "source": [
        "labels.shape"
      ],
      "execution_count": 0,
      "outputs": [
        {
          "output_type": "execute_result",
          "data": {
            "text/plain": [
              "(748,)"
            ]
          },
          "metadata": {
            "tags": []
          },
          "execution_count": 8
        }
      ]
    },
    {
      "cell_type": "code",
      "metadata": {
        "id": "7t8i14jDnQJY",
        "colab_type": "code",
        "colab": {}
      },
      "source": [
        "labels = labels.reshape(-1,1) #reshaping the labels"
      ],
      "execution_count": 0,
      "outputs": []
    },
    {
      "cell_type": "markdown",
      "metadata": {
        "id": "1XZqI13KnQJd",
        "colab_type": "text"
      },
      "source": [
        "performing one hot encoding"
      ]
    },
    {
      "cell_type": "code",
      "metadata": {
        "id": "qJBlIRx5nQJe",
        "colab_type": "code",
        "colab": {},
        "outputId": "af1d36e2-1913-4a77-9268-fb0c25982cdf"
      },
      "source": [
        "#performing one hot encoding in the labels\n",
        "# 1. INSTANTIATE\n",
        "enc = preprocessing.OneHotEncoder()\n",
        "\n",
        "# 2. FIT\n",
        "enc.fit(labels)\n",
        "\n",
        "# 3. Transform\n",
        "y = enc.transform(labels).toarray()\n",
        "y.shape    \n",
        "y    "
      ],
      "execution_count": 0,
      "outputs": [
        {
          "output_type": "stream",
          "text": [
            "C:\\ProgramData\\Anaconda3\\lib\\site-packages\\sklearn\\preprocessing\\_encoders.py:415: FutureWarning: The handling of integer data will change in version 0.22. Currently, the categories are determined based on the range [0, max(values)], while in the future they will be determined based on the unique values.\n",
            "If you want the future behaviour and silence this warning, you can specify \"categories='auto'\".\n",
            "In case you used a LabelEncoder before this OneHotEncoder to convert the categories to integers, then you can now use the OneHotEncoder directly.\n",
            "  warnings.warn(msg, FutureWarning)\n"
          ],
          "name": "stderr"
        },
        {
          "output_type": "execute_result",
          "data": {
            "text/plain": [
              "array([[0., 1.],\n",
              "       [0., 1.],\n",
              "       [0., 1.],\n",
              "       ...,\n",
              "       [1., 0.],\n",
              "       [1., 0.],\n",
              "       [1., 0.]])"
            ]
          },
          "metadata": {
            "tags": []
          },
          "execution_count": 16
        }
      ]
    },
    {
      "cell_type": "code",
      "metadata": {
        "id": "T5El6JL0nQJh",
        "colab_type": "code",
        "colab": {}
      },
      "source": [
        "\n",
        "\n"
      ],
      "execution_count": 0,
      "outputs": []
    },
    {
      "cell_type": "markdown",
      "metadata": {
        "id": "nkuhTXU8nQJk",
        "colab_type": "text"
      },
      "source": [
        "Spliting the dataset into 70:30 ratio"
      ]
    },
    {
      "cell_type": "code",
      "metadata": {
        "id": "4zcAeiZznQJl",
        "colab_type": "code",
        "colab": {}
      },
      "source": [
        "#splitting the dataset into testing and training\n",
        "from sklearn.model_selection import train_test_split\n",
        "\n",
        "x_train, x_test, y_train, y_test = train_test_split(X_train, y, test_size=0.3)\n",
        "\n",
        "\n"
      ],
      "execution_count": 0,
      "outputs": []
    },
    {
      "cell_type": "markdown",
      "metadata": {
        "id": "Y3r6WZwRnQJo",
        "colab_type": "text"
      },
      "source": [
        "Generating random weights and hidden neurons"
      ]
    },
    {
      "cell_type": "code",
      "metadata": {
        "id": "f63czX9ZnQJp",
        "colab_type": "code",
        "colab": {},
        "outputId": "0da3fae4-11c7-48d0-afa8-b16ecf3ae3b6"
      },
      "source": [
        "#Generating random weights and hidden units\n",
        "\n",
        "\n",
        "Win = np.random.normal(size=[x_train.shape[1], 700])\n",
        "\n",
        "print('Input Weight shape: {shape}'.format(shape=Win.shape))\n",
        "Win"
      ],
      "execution_count": 0,
      "outputs": [
        {
          "output_type": "stream",
          "text": [
            "Input Weight shape: (4, 700)\n"
          ],
          "name": "stdout"
        },
        {
          "output_type": "execute_result",
          "data": {
            "text/plain": [
              "array([[ 1.18775709, -0.52558242,  1.86934128, ..., -0.24972353,\n",
              "        -0.4284569 ,  0.23175202],\n",
              "       [ 1.37143448, -1.79955095,  0.47594433, ..., -0.30886776,\n",
              "         0.06869687, -1.13800135],\n",
              "       [-0.42321844,  1.36261104, -0.1849236 , ..., -1.15256236,\n",
              "        -0.74908615, -0.3742725 ],\n",
              "       [ 0.6283884 , -0.01606737, -2.23419491, ...,  0.25448131,\n",
              "         2.04990744, -0.02372699]])"
            ]
          },
          "metadata": {
            "tags": []
          },
          "execution_count": 12
        }
      ]
    },
    {
      "cell_type": "markdown",
      "metadata": {
        "id": "NInLE2qhnQJt",
        "colab_type": "text"
      },
      "source": [
        "Applying Relu activation function\n"
      ]
    },
    {
      "cell_type": "code",
      "metadata": {
        "id": "JbUUajKInQJu",
        "colab_type": "code",
        "colab": {}
      },
      "source": [
        "#applying Relu activation function\n",
        "def input_to_hidden(x):\n",
        "    a = np.maximum(0, x) # ReLU\n",
        "    return a"
      ],
      "execution_count": 0,
      "outputs": []
    },
    {
      "cell_type": "markdown",
      "metadata": {
        "id": "H0HekBh3nQJ0",
        "colab_type": "text"
      },
      "source": [
        "Calculating output weight of ELM"
      ]
    },
    {
      "cell_type": "code",
      "metadata": {
        "id": "zHZmCFDEnQJ1",
        "colab_type": "code",
        "colab": {},
        "outputId": "b22e9eab-676b-46a9-e80e-bfad4e12f066"
      },
      "source": [
        "#Compute the output weights ELM\n",
        "X = input_to_hidden(x_train)\n",
        "s = np.linalg.pinv(X)\n",
        "wout = np.dot(s,y_train)\n",
        "wout"
      ],
      "execution_count": 0,
      "outputs": [
        {
          "output_type": "execute_result",
          "data": {
            "text/plain": [
              "array([[ 3.13935331e-02,  1.84814446e-03],\n",
              "       [-1.90100998e-08,  5.25008121e-07],\n",
              "       [-4.75254257e-06,  1.31252030e-04],\n",
              "       [ 8.94797710e-03, -1.06677983e-03]])"
            ]
          },
          "metadata": {
            "tags": []
          },
          "execution_count": 14
        }
      ]
    },
    {
      "cell_type": "markdown",
      "metadata": {
        "id": "zbMWgJbanQJ4",
        "colab_type": "text"
      },
      "source": [
        "calculating the final accuracy"
      ]
    },
    {
      "cell_type": "code",
      "metadata": {
        "id": "luGN73VenQJ5",
        "colab_type": "code",
        "colab": {},
        "outputId": "1c99ce7e-dacd-40c4-b4fd-588bda4cf67b"
      },
      "source": [
        "#final prediction method\n",
        "\n",
        "test_r = input_to_hidden(x_test)\n",
        "y = np.dot(test_r,wout)\n",
        "correct = 0\n",
        "for i in range(y.shape[0]):\n",
        "    predicted = np.argmax(y[i])\n",
        "    test = np.argmax(y_test[i])\n",
        "    correct = correct + (1 if predicted == test else 0)\n",
        "print('Accuracy: {:f}'.format(correct/y.shape[0] * 100))\n",
        "\n",
        "\n"
      ],
      "execution_count": 0,
      "outputs": [
        {
          "output_type": "stream",
          "text": [
            "Accuracy: 81.333333\n"
          ],
          "name": "stdout"
        }
      ]
    },
    {
      "cell_type": "code",
      "metadata": {
        "id": "g62yXmDDnQJ8",
        "colab_type": "code",
        "colab": {}
      },
      "source": [
        "\n"
      ],
      "execution_count": 0,
      "outputs": []
    },
    {
      "cell_type": "code",
      "metadata": {
        "id": "lmSxSvHXnQKA",
        "colab_type": "code",
        "colab": {}
      },
      "source": [
        ""
      ],
      "execution_count": 0,
      "outputs": []
    },
    {
      "cell_type": "code",
      "metadata": {
        "id": "K5-YdIUcnQKD",
        "colab_type": "code",
        "colab": {}
      },
      "source": [
        ""
      ],
      "execution_count": 0,
      "outputs": []
    },
    {
      "cell_type": "code",
      "metadata": {
        "id": "xkTC6T8HnQKG",
        "colab_type": "code",
        "colab": {}
      },
      "source": [
        ""
      ],
      "execution_count": 0,
      "outputs": []
    },
    {
      "cell_type": "code",
      "metadata": {
        "id": "51S5tFx6nQKJ",
        "colab_type": "code",
        "colab": {}
      },
      "source": [
        ""
      ],
      "execution_count": 0,
      "outputs": []
    },
    {
      "cell_type": "code",
      "metadata": {
        "id": "H_NJ0iA-nQKL",
        "colab_type": "code",
        "colab": {}
      },
      "source": [
        ""
      ],
      "execution_count": 0,
      "outputs": []
    },
    {
      "cell_type": "code",
      "metadata": {
        "id": "sJaxQ7SlnQKP",
        "colab_type": "code",
        "colab": {}
      },
      "source": [
        ""
      ],
      "execution_count": 0,
      "outputs": []
    },
    {
      "cell_type": "code",
      "metadata": {
        "id": "WXEDyFz-nQKS",
        "colab_type": "code",
        "colab": {}
      },
      "source": [
        ""
      ],
      "execution_count": 0,
      "outputs": []
    },
    {
      "cell_type": "code",
      "metadata": {
        "id": "KCA5JQZynQKV",
        "colab_type": "code",
        "colab": {}
      },
      "source": [
        ""
      ],
      "execution_count": 0,
      "outputs": []
    },
    {
      "cell_type": "code",
      "metadata": {
        "id": "GUfRknntnQKY",
        "colab_type": "code",
        "colab": {}
      },
      "source": [
        ""
      ],
      "execution_count": 0,
      "outputs": []
    },
    {
      "cell_type": "code",
      "metadata": {
        "id": "o5_8lPl-nQKa",
        "colab_type": "code",
        "colab": {}
      },
      "source": [
        ""
      ],
      "execution_count": 0,
      "outputs": []
    },
    {
      "cell_type": "code",
      "metadata": {
        "id": "8BUrezK5nQKd",
        "colab_type": "code",
        "colab": {}
      },
      "source": [
        ""
      ],
      "execution_count": 0,
      "outputs": []
    },
    {
      "cell_type": "code",
      "metadata": {
        "id": "Lw6mtxvknQKh",
        "colab_type": "code",
        "colab": {}
      },
      "source": [
        ""
      ],
      "execution_count": 0,
      "outputs": []
    },
    {
      "cell_type": "code",
      "metadata": {
        "id": "Fh2ia527nQKl",
        "colab_type": "code",
        "colab": {}
      },
      "source": [
        ""
      ],
      "execution_count": 0,
      "outputs": []
    },
    {
      "cell_type": "code",
      "metadata": {
        "id": "YmS6nVVZnQKq",
        "colab_type": "code",
        "colab": {}
      },
      "source": [
        ""
      ],
      "execution_count": 0,
      "outputs": []
    },
    {
      "cell_type": "code",
      "metadata": {
        "id": "qH-VVdQ5nQKt",
        "colab_type": "code",
        "colab": {}
      },
      "source": [
        ""
      ],
      "execution_count": 0,
      "outputs": []
    },
    {
      "cell_type": "code",
      "metadata": {
        "id": "umNzVLw_nQKw",
        "colab_type": "code",
        "colab": {}
      },
      "source": [
        ""
      ],
      "execution_count": 0,
      "outputs": []
    },
    {
      "cell_type": "code",
      "metadata": {
        "id": "W2YQeOyBnQK0",
        "colab_type": "code",
        "colab": {}
      },
      "source": [
        ""
      ],
      "execution_count": 0,
      "outputs": []
    },
    {
      "cell_type": "code",
      "metadata": {
        "id": "aFdIfMGQnQK3",
        "colab_type": "code",
        "colab": {}
      },
      "source": [
        ""
      ],
      "execution_count": 0,
      "outputs": []
    }
  ]
}